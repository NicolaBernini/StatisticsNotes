{
 "cells": [
  {
   "cell_type": "markdown",
   "metadata": {
    "collapsed": false
   },
   "source": [
    "# Multiple Regression \n",
    "\n",
    "## Overview \n",
    "\n",
    "The Multiple Regression goal is to perform Model Fitting (hence adjusting internal parameters of an \"a priori\" Model with \"a posteriori\" Data) so to be able to perform predictions and explanations \n"
   ]
  },
  {
   "cell_type": "markdown",
   "metadata": {},
   "source": [
    "\n",
    "## Linear Model \n",
    "\n",
    "Represented by linear relationships between \n",
    "\n",
    "- $ Y $ Dependent Variable \n",
    "- $ \\{ X_{i} \\}_{i=1,...,n} $ Set of $ n $ Independent Variables \n"
   ]
  },
  {
   "cell_type": "markdown",
   "metadata": {},
   "source": [
    "\n",
    "### Case Mono with $ n = 1 $\n",
    "\n",
    "The standard mono linear regression with the following model \n",
    "\n",
    "$$ Y = a + bX $$ \n",
    "\n",
    "\n",
    "#### Solution \n",
    "\n",
    "The **Angular Coefficient** is found using correlations \n",
    "\n",
    "$$ b = \\frac{Cov(X,Y)}{\\sigma_{x}^{2}} $$\n",
    "\n",
    "and the **Fixed Term** is found usin\n",
    "\n",
    "$$ a = \\bar y - b \\bar x $$\n"
   ]
  },
  {
   "cell_type": "code",
   "execution_count": null,
   "metadata": {
    "collapsed": true
   },
   "outputs": [],
   "source": []
  }
 ],
 "metadata": {
  "kernelspec": {
   "display_name": "Python 2",
   "language": "python",
   "name": "python2"
  },
  "language_info": {
   "codemirror_mode": {
    "name": "ipython",
    "version": 2
   },
   "file_extension": ".py",
   "mimetype": "text/x-python",
   "name": "python",
   "nbconvert_exporter": "python",
   "pygments_lexer": "ipython2",
   "version": "2.7.10"
  },
  "name": "T2016-01-16-092551 - MR1.ipynb"
 },
 "nbformat": 4,
 "nbformat_minor": 0
}
